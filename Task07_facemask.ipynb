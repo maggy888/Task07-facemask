{
  "nbformat": 4,
  "nbformat_minor": 0,
  "metadata": {
    "colab": {
      "provenance": [],
      "authorship_tag": "ABX9TyPCmfFT8PsoFV6kcAm1wxK8",
      "include_colab_link": true
    },
    "kernelspec": {
      "name": "python3",
      "display_name": "Python 3"
    },
    "language_info": {
      "name": "python"
    }
  },
  "cells": [
    {
      "cell_type": "markdown",
      "metadata": {
        "id": "view-in-github",
        "colab_type": "text"
      },
      "source": [
        "<a href=\"https://colab.research.google.com/github/maggy888/Task07-facemask/blob/main/Task07_facemask.ipynb\" target=\"_parent\"><img src=\"https://colab.research.google.com/assets/colab-badge.svg\" alt=\"Open In Colab\"/></a>"
      ]
    },
    {
      "cell_type": "code",
      "execution_count": 2,
      "metadata": {
        "colab": {
          "base_uri": "https://localhost:8080/"
        },
        "id": "hxh-bPwgHTWX",
        "outputId": "b22eb638-c100-4c9e-e76e-6d0cd8db4748"
      },
      "outputs": [
        {
          "output_type": "stream",
          "name": "stderr",
          "text": [
            "IOPub data rate exceeded.\n",
            "The notebook server will temporarily stop sending output\n",
            "to the client in order to avoid crashing it.\n",
            "To change this limit, set the config variable\n",
            "`--NotebookApp.iopub_data_rate_limit`.\n",
            "\n",
            "Current values:\n",
            "NotebookApp.iopub_data_rate_limit=1000000.0 (bytes/sec)\n",
            "NotebookApp.rate_limit_window=3.0 (secs)\n",
            "\n"
          ]
        }
      ],
      "source": [
        "import requests\n",
        "import json\n",
        "\n",
        "#利用requests對API來源發送一個請求\n",
        "\n",
        "facemask = (\"https://raw.githubusercontent.com/kiang/pharmacies/master/json/points.json\")\n",
        "response = requests.get(facemask)\n",
        "\n",
        "#請求回應的內容存成一個字串格式\n",
        "d = response.text\n",
        "\n",
        "# 將長得像 json 格式的字串解析成字典或列表\n",
        "data = json.loads(d)\n",
        "print(data)\n",
        "\n",
        "\n",
        "med_count = {}\n",
        "\n",
        "# 填入欄位名稱\n",
        "for d in data['features']:\n",
        "    county = d['properties']['address'][0:3]\n",
        "    if county not in med_count:\n",
        "        med_count[county] = 0\n",
        "    else:\n",
        "        med_count[county] += 1\n",
        "\n",
        "print(med_count)\n",
        "# {'台北市': 123, '新北市': 456, ...}\n",
        "\n",
        "mask_count = {}\n",
        "\n",
        "#填入欄位名稱\n",
        "for d in data['features']:\n",
        "    county = d [\"properties\"]['address'][:3]\n",
        "    mask_adult = d [\"properties\"]['mask_adult']\n",
        "    if county not in mask_count:\n",
        "        mask_count[county] = mask_adult\n",
        "    else:\n",
        "        mask_count[county] = mask_count[county] + mask_adult\n",
        "\n",
        "#print(mask_count.items())\n",
        "#將結果從大排到小排列\n",
        "mask_count = dict(sorted(mask_count.items(),key = lambda item:item[1],reverse = True))\n",
        "\n",
        "\n",
        "print(mask_count)\n",
        "\n",
        "#{'台北市':12345,'新北市':45678...}\n"
      ]
    }
  ]
}